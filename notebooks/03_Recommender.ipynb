{
 "cells": [
  {
   "cell_type": "code",
   "execution_count": 1,
   "id": "c029dc6f-b703-4540-8127-23164a9f4d71",
   "metadata": {},
   "outputs": [],
   "source": [
    "import warnings\n",
    "warnings.filterwarnings('ignore')"
   ]
  },
  {
   "cell_type": "code",
   "execution_count": 2,
   "id": "486d46e3-15f4-4455-b396-913ddac6a87c",
   "metadata": {},
   "outputs": [],
   "source": [
    "from langchain.text_splitter import RecursiveCharacterTextSplitter\n",
    "from openai import OpenAI\n",
    "from pinecone import Pinecone, ServerlessSpec\n",
    "from tqdm.auto import tqdm, trange\n",
    "from DLAIUtils import Utils\n",
    "\n",
    "import pandas as pd\n",
    "import time\n",
    "import os"
   ]
  },
  {
   "cell_type": "code",
   "execution_count": 3,
   "id": "b94abfff-16d6-4749-bced-d9b9cb031bcf",
   "metadata": {},
   "outputs": [],
   "source": [
    "utils = Utils()\n",
    "PINECONE_API_KEY = utils.get_pinecone_api_key()\n",
    "OPENAI_API_KEY = utils.get_openai_api_key()\n"
   ]
  },
  {
   "cell_type": "code",
   "execution_count": 5,
   "id": "b4aaa97d-907a-4fb6-a366-73dbdf3a1d1c",
   "metadata": {},
   "outputs": [
    {
     "name": "stdout",
     "output_type": "stream",
     "text": [
      "all-the-news-3.zip  100%[===================>] 166.04M  31.1MB/s    in 5.5s    \n"
     ]
    }
   ],
   "source": [
    "!wget -q --show-progress -O all-the-news-3.zip \"https://www.dropbox.com/scl/fi/wruzj2bwyg743d0jzd7ku/all-the-news-3.zip?rlkey=rgwtwpeznbdadpv3f01sznwxa&dl=1\""
   ]
  },
  {
   "cell_type": "code",
   "execution_count": 6,
   "id": "a1b492cf-63f3-46db-98f0-1dff1aeb47c9",
   "metadata": {},
   "outputs": [
    {
     "name": "stdout",
     "output_type": "stream",
     "text": [
      "Archive:  all-the-news-3.zip\n",
      "  inflating: all-the-news-3.csv      \n"
     ]
    }
   ],
   "source": [
    "!unzip all-the-news-3.zip"
   ]
  },
  {
   "cell_type": "code",
   "execution_count": 7,
   "id": "4961b79e-efc0-4d36-a64b-0b4efbeaead7",
   "metadata": {},
   "outputs": [
    {
     "name": "stdout",
     "output_type": "stream",
     "text": [
      "date,year,month,day,author,title,article,url,section,publication\n",
      "\n"
     ]
    }
   ],
   "source": [
    "with open('./all-the-news-3.csv','r') as f:\n",
    "    header = f.readline()\n",
    "    print(header)"
   ]
  },
  {
   "cell_type": "code",
   "execution_count": 8,
   "id": "9f331a1d-f36d-403a-8ad2-2e384de46082",
   "metadata": {},
   "outputs": [
    {
     "data": {
      "text/html": [
       "<div>\n",
       "<style scoped>\n",
       "    .dataframe tbody tr th:only-of-type {\n",
       "        vertical-align: middle;\n",
       "    }\n",
       "\n",
       "    .dataframe tbody tr th {\n",
       "        vertical-align: top;\n",
       "    }\n",
       "\n",
       "    .dataframe thead th {\n",
       "        text-align: right;\n",
       "    }\n",
       "</style>\n",
       "<table border=\"1\" class=\"dataframe\">\n",
       "  <thead>\n",
       "    <tr style=\"text-align: right;\">\n",
       "      <th></th>\n",
       "      <th>date</th>\n",
       "      <th>year</th>\n",
       "      <th>month</th>\n",
       "      <th>day</th>\n",
       "      <th>author</th>\n",
       "      <th>title</th>\n",
       "      <th>article</th>\n",
       "      <th>url</th>\n",
       "      <th>section</th>\n",
       "      <th>publication</th>\n",
       "    </tr>\n",
       "  </thead>\n",
       "  <tbody>\n",
       "    <tr>\n",
       "      <th>0</th>\n",
       "      <td>2016-12-09 18:31:00</td>\n",
       "      <td>2016</td>\n",
       "      <td>12.0</td>\n",
       "      <td>9</td>\n",
       "      <td>Lee Drutman</td>\n",
       "      <td>We should take concerns about the health of li...</td>\n",
       "      <td>This post is part of Polyarchy, an independent...</td>\n",
       "      <td>https://www.vox.com/polyarchy/2016/12/9/138983...</td>\n",
       "      <td>NaN</td>\n",
       "      <td>Vox</td>\n",
       "    </tr>\n",
       "    <tr>\n",
       "      <th>1</th>\n",
       "      <td>2016-10-07 21:26:46</td>\n",
       "      <td>2016</td>\n",
       "      <td>10.0</td>\n",
       "      <td>7</td>\n",
       "      <td>Scott Davis</td>\n",
       "      <td>Colts GM Ryan Grigson says Andrew Luck's contr...</td>\n",
       "      <td>The Indianapolis Colts made Andrew Luck the h...</td>\n",
       "      <td>https://www.businessinsider.com/colts-gm-ryan-...</td>\n",
       "      <td>NaN</td>\n",
       "      <td>Business Insider</td>\n",
       "    </tr>\n",
       "    <tr>\n",
       "      <th>2</th>\n",
       "      <td>2018-01-26 00:00:00</td>\n",
       "      <td>2018</td>\n",
       "      <td>1.0</td>\n",
       "      <td>26</td>\n",
       "      <td>NaN</td>\n",
       "      <td>Trump denies report he ordered Mueller fired</td>\n",
       "      <td>DAVOS, Switzerland (Reuters) - U.S. President ...</td>\n",
       "      <td>https://www.reuters.com/article/us-davos-meeti...</td>\n",
       "      <td>Davos</td>\n",
       "      <td>Reuters</td>\n",
       "    </tr>\n",
       "    <tr>\n",
       "      <th>3</th>\n",
       "      <td>2019-06-27 00:00:00</td>\n",
       "      <td>2019</td>\n",
       "      <td>6.0</td>\n",
       "      <td>27</td>\n",
       "      <td>NaN</td>\n",
       "      <td>France's Sarkozy reveals his 'Passions' but in...</td>\n",
       "      <td>PARIS (Reuters) - Former French president Nico...</td>\n",
       "      <td>https://www.reuters.com/article/france-politic...</td>\n",
       "      <td>World News</td>\n",
       "      <td>Reuters</td>\n",
       "    </tr>\n",
       "    <tr>\n",
       "      <th>4</th>\n",
       "      <td>2016-01-27 00:00:00</td>\n",
       "      <td>2016</td>\n",
       "      <td>1.0</td>\n",
       "      <td>27</td>\n",
       "      <td>NaN</td>\n",
       "      <td>Paris Hilton: Woman In Black For Uncle Monty's...</td>\n",
       "      <td>Paris Hilton arrived at LAX Wednesday dressed ...</td>\n",
       "      <td>https://www.tmz.com/2016/01/27/paris-hilton-mo...</td>\n",
       "      <td>NaN</td>\n",
       "      <td>TMZ</td>\n",
       "    </tr>\n",
       "  </tbody>\n",
       "</table>\n",
       "</div>"
      ],
      "text/plain": [
       "                  date  year  month  day       author  \\\n",
       "0  2016-12-09 18:31:00  2016   12.0    9  Lee Drutman   \n",
       "1  2016-10-07 21:26:46  2016   10.0    7  Scott Davis   \n",
       "2  2018-01-26 00:00:00  2018    1.0   26          NaN   \n",
       "3  2019-06-27 00:00:00  2019    6.0   27          NaN   \n",
       "4  2016-01-27 00:00:00  2016    1.0   27          NaN   \n",
       "\n",
       "                                               title  \\\n",
       "0  We should take concerns about the health of li...   \n",
       "1  Colts GM Ryan Grigson says Andrew Luck's contr...   \n",
       "2       Trump denies report he ordered Mueller fired   \n",
       "3  France's Sarkozy reveals his 'Passions' but in...   \n",
       "4  Paris Hilton: Woman In Black For Uncle Monty's...   \n",
       "\n",
       "                                             article  \\\n",
       "0  This post is part of Polyarchy, an independent...   \n",
       "1   The Indianapolis Colts made Andrew Luck the h...   \n",
       "2  DAVOS, Switzerland (Reuters) - U.S. President ...   \n",
       "3  PARIS (Reuters) - Former French president Nico...   \n",
       "4  Paris Hilton arrived at LAX Wednesday dressed ...   \n",
       "\n",
       "                                                 url     section  \\\n",
       "0  https://www.vox.com/polyarchy/2016/12/9/138983...         NaN   \n",
       "1  https://www.businessinsider.com/colts-gm-ryan-...         NaN   \n",
       "2  https://www.reuters.com/article/us-davos-meeti...       Davos   \n",
       "3  https://www.reuters.com/article/france-politic...  World News   \n",
       "4  https://www.tmz.com/2016/01/27/paris-hilton-mo...         NaN   \n",
       "\n",
       "        publication  \n",
       "0               Vox  \n",
       "1  Business Insider  \n",
       "2           Reuters  \n",
       "3           Reuters  \n",
       "4               TMZ  "
      ]
     },
     "execution_count": 8,
     "metadata": {},
     "output_type": "execute_result"
    }
   ],
   "source": [
    "df = pd.read_csv('./all-the-news-3.csv', nrows = 99)\n",
    "df.head()"
   ]
  },
  {
   "cell_type": "code",
   "execution_count": 9,
   "id": "cad1dde7-0460-41d9-bfb8-6fbeaa0617b0",
   "metadata": {},
   "outputs": [],
   "source": [
    "openai_client = OpenAI(api_key = OPENAI_API_KEY)\n",
    "utils = Utils()\n",
    "INDEX_NAME = utils.create_dlai_index_name('dl-ai')\n",
    "pinecone = Pinecone(api_key = PINECONE_API_KEY)\n",
    "\n",
    "if INDEX_NAME in [index.name for index in pinecone.list_indexes()]:\n",
    "    pinecone.delete_index(INDEX_NAME)\n",
    "\n",
    "pinecone.create_index(name = INDEX_NAME, dimension= 1536, metric='cosine',\n",
    "                      spec = ServerlessSpec(cloud='aws', region='us-west-2'))\n",
    "index = pinecone.Index(INDEX_NAME)"
   ]
  },
  {
   "cell_type": "markdown",
   "id": "7617134a-4725-458d-8c4b-19a994ca627c",
   "metadata": {},
   "source": [
    "## Create embeddings of the new titles"
   ]
  },
  {
   "cell_type": "code",
   "execution_count": 10,
   "id": "87268786-0931-474e-85a8-d4570bdde9a2",
   "metadata": {},
   "outputs": [],
   "source": [
    "def get_embeddings(articles, model=\"text-embedding-ada-002\"):\n",
    "    return openai_client.embeddings.create(input = articles, model = model)"
   ]
  },
  {
   "cell_type": "code",
   "execution_count": 14,
   "id": "65c11f42-8aa3-4582-ac10-a0337289e12a",
   "metadata": {},
   "outputs": [
    {
     "data": {
      "application/vnd.jupyter.widget-view+json": {
       "model_id": "5d3f5730181245f59c6bd1d280246110",
       "version_major": 2,
       "version_minor": 0
      },
      "text/plain": [
       "  0%|          | 0/10000 [00:00<?, ?it/s]"
      ]
     },
     "metadata": {},
     "output_type": "display_data"
    }
   ],
   "source": [
    "CHUNK_SIZE = 400\n",
    "TOTAL_ROWS = 10000\n",
    "\n",
    "progress_bar = tqdm(total = TOTAL_ROWS)\n",
    "chunks = pd.read_csv('./all-the-news-3.csv', chunksize=CHUNK_SIZE, nrows= TOTAL_ROWS)\n",
    "\n",
    "chunk_num = 0\n",
    "for chunk in chunks:\n",
    "    titles = chunk['title'].tolist()\n",
    "    embeddings = get_embeddings(titles)\n",
    "    prepped = [{'id': str(chunk_num*CHUNK_SIZE+i), 'values': embeddings.data[i].embedding,\n",
    "    'metadata':{'title': titles[i]},} for i in range(0,len(titles))]\n",
    "    chunk_num += 1\n",
    "    if len(prepped) >= 200:\n",
    "        index.upsert(prepped)\n",
    "        prepped = []\n",
    "    progress_bar.update(len(chunk))"
   ]
  },
  {
   "cell_type": "code",
   "execution_count": 15,
   "id": "7b104da8-3ecc-4eee-8b25-21de0a75133c",
   "metadata": {},
   "outputs": [
    {
     "data": {
      "text/plain": [
       "{'dimension': 1536,\n",
       " 'index_fullness': 0.0,\n",
       " 'namespaces': {'': {'vector_count': 10000}},\n",
       " 'total_vector_count': 10000}"
      ]
     },
     "execution_count": 15,
     "metadata": {},
     "output_type": "execute_result"
    }
   ],
   "source": [
    "index.describe_index_stats()"
   ]
  },
  {
   "cell_type": "markdown",
   "id": "a17bdfc1-809c-40bf-842c-2716bda9a1bb",
   "metadata": {},
   "source": [
    "## Build recommender system"
   ]
  },
  {
   "cell_type": "code",
   "execution_count": 16,
   "id": "2c62fcb7-4fd8-483d-93a7-3de17e7dc96b",
   "metadata": {},
   "outputs": [],
   "source": [
    "def get_recommendations(pinecone_index, search_term, top_k= 10):\n",
    "    embed = get_embeddings([search_term]).data[0].embedding\n",
    "    res = pinecone_index.query(vector = embed, top_k = top_k, include_metadata = True)\n",
    "    return res\n",
    "\n"
   ]
  },
  {
   "cell_type": "code",
   "execution_count": 19,
   "id": "f7b53ddf-5c1d-45a3-8e6a-0292a609caaa",
   "metadata": {},
   "outputs": [
    {
     "name": "stdout",
     "output_type": "stream",
     "text": [
      "0.849901617 : Barack Obama just stepped off the sidelines to defend Obamacare\n",
      "0.848412454 : President Obama has a new plan to fight the opioid epidemic\n",
      "0.848278 : “Our democracy is at stake”: Obama delivers his first post-presidency campaign speech\n",
      "0.847949 : Obama: if you were fine with big government until it served black people, rethink your biases\n",
      "0.845737576 : President Obama: Michelle & I Are Gonna Be Renters\n",
      "0.84419769 : Obama meets with national security team on Syria, Islamic State\n",
      "0.843295038 : Vox Sentences: Obama got a warmer welcome in Hiroshima than the Japanese prime minister\n",
      "0.842703104 : Watch President Obama dance the tango in Argentina\n",
      "0.840954602 : Obama and Supreme Court Tag Team on Juvenile Justice Reform\n",
      "0.840886533 : Barack Obama in talks to create shows for Netflix: New York Times\n"
     ]
    }
   ],
   "source": [
    "reco = get_recommendations(index, 'obama')\n",
    "for r in reco.matches:\n",
    "    print(f'{r.score} : {r.metadata[\"title\"]}')"
   ]
  },
  {
   "cell_type": "markdown",
   "id": "5cb204cc-3b34-4ee7-b5f7-616bdf52b025",
   "metadata": {},
   "source": [
    "## create embeddings of all news content"
   ]
  },
  {
   "cell_type": "code",
   "execution_count": 20,
   "id": "cd4d421c-b94e-42a7-929a-fbd9987b3f98",
   "metadata": {},
   "outputs": [],
   "source": [
    "if INDEX_NAME in [index.name for index in pinecone.list_indexes()]:\n",
    "    pinecone.delete_index(name = INDEX_NAME)\n",
    "pinecone.create_index(name = INDEX_NAME, dimension = 1536, metric='cosine',\n",
    "                      spec = ServerlessSpec(cloud='aws',region ='us-west-2'))\n",
    "articles_index = pinecone.Index(INDEX_NAME)"
   ]
  },
  {
   "cell_type": "code",
   "execution_count": 21,
   "id": "4f3fee58-9739-44d5-8aca-35a9c02ce81b",
   "metadata": {},
   "outputs": [],
   "source": [
    "def embed(embeddings, title, prepped, embed_num):\n",
    "    for embedding in embeddings.data:\n",
    "        prepped.append({'id':str(embed_num),'values': embedding.embedding, \n",
    "                        'metadata':{'title':title}})\n",
    "        embed_num += 1\n",
    "        if len(prepped) >= 100:\n",
    "            articles_index.upsert(prepped)\n",
    "            prepped.clear()\n",
    "    return embed_num"
   ]
  },
  {
   "cell_type": "code",
   "execution_count": 23,
   "id": "7ea8c637-8725-4b68-b28c-1100d232279b",
   "metadata": {},
   "outputs": [
    {
     "name": "stdout",
     "output_type": "stream",
     "text": [
      "...................................................................................................."
     ]
    }
   ],
   "source": [
    "news_data_rows_num = 100\n",
    "embed_num = 0 #keep track of embedding number for 'id'\n",
    "text_splitter = RecursiveCharacterTextSplitter(chunk_size = 400, \n",
    "                                               chunk_overlap=20) # how to chunk the article\n",
    "prepped = []\n",
    "df = pd.read_csv('./all-the-news-3.csv', nrows=news_data_rows_num)\n",
    "articles_list = df['article'].tolist()\n",
    "titles_list = df['title'].tolist()\n",
    "\n",
    "for i in range(0, len(articles_list)):\n",
    "    print(\".\", end =\"\")\n",
    "    art = articles_list[i]\n",
    "    title = titles_list[i]\n",
    "    if art is not None and isinstance(art,str):\n",
    "        texts = text_splitter.split_text(art)\n",
    "        embeddings = get_embeddings(texts)\n",
    "        emebd_num = embed(embeddings, title, prepped, embed_num)\n",
    "        "
   ]
  },
  {
   "cell_type": "code",
   "execution_count": 25,
   "id": "4462aba6-63ba-45a6-bf14-032e582d4edf",
   "metadata": {},
   "outputs": [
    {
     "data": {
      "text/plain": [
       "{'dimension': 1536,\n",
       " 'index_fullness': 0.0,\n",
       " 'namespaces': {'': {'vector_count': 54}},\n",
       " 'total_vector_count': 54}"
      ]
     },
     "execution_count": 25,
     "metadata": {},
     "output_type": "execute_result"
    }
   ],
   "source": [
    "articles_index.describe_index_stats()"
   ]
  },
  {
   "cell_type": "code",
   "execution_count": 26,
   "id": "d0a88842-7fa4-408f-ac14-2de3a0a744d5",
   "metadata": {},
   "outputs": [
    {
     "name": "stdout",
     "output_type": "stream",
     "text": [
      "0.821058929:Why Obama is vetting Nevada's Republican governor for the Supreme Court\n",
      "0.820152402:Why Obama is vetting Nevada's Republican governor for the Supreme Court\n",
      "0.814246416:Why Obama is vetting Nevada's Republican governor for the Supreme Court\n",
      "0.791367888:Why Obama is vetting Nevada's Republican governor for the Supreme Court\n",
      "0.787421465:Why Jews Are Getting Themselves Arrested at ICE Centers Around the Country\n",
      "0.779153466:Why Obama is vetting Nevada's Republican governor for the Supreme Court\n",
      "0.775539637:Why Jews Are Getting Themselves Arrested at ICE Centers Around the Country\n",
      "0.772494316:Why Obama is vetting Nevada's Republican governor for the Supreme Court\n",
      "0.769901633:Why Jews Are Getting Themselves Arrested at ICE Centers Around the Country\n",
      "0.764554381:Why Jews Are Getting Themselves Arrested at ICE Centers Around the Country\n",
      "0.764509678:MaliVai Washington on Men's Tennis Today and His Historic Wimbledon Run 20 Years Ago\n",
      "0.763626575:MaliVai Washington on Men's Tennis Today and His Historic Wimbledon Run 20 Years Ago\n",
      "0.762961:Why Jews Are Getting Themselves Arrested at ICE Centers Around the Country\n",
      "0.761881828:MaliVai Washington on Men's Tennis Today and His Historic Wimbledon Run 20 Years Ago\n",
      "0.759385288:MaliVai Washington on Men's Tennis Today and His Historic Wimbledon Run 20 Years Ago\n",
      "0.758465171:Photos: These are the Rohingya children who escaped Myanmar’s \"ethnic cleansing\"\n",
      "0.757978737:Why Jews Are Getting Themselves Arrested at ICE Centers Around the Country\n",
      "0.757908583:MaliVai Washington on Men's Tennis Today and His Historic Wimbledon Run 20 Years Ago\n",
      "0.757262588:MaliVai Washington on Men's Tennis Today and His Historic Wimbledon Run 20 Years Ago\n",
      "0.756616592:Why Jews Are Getting Themselves Arrested at ICE Centers Around the Country\n",
      "0.755831599:Photos: These are the Rohingya children who escaped Myanmar’s \"ethnic cleansing\"\n",
      "0.755430877:Photos: These are the Rohingya children who escaped Myanmar’s \"ethnic cleansing\"\n",
      "0.7554214:Why Jews Are Getting Themselves Arrested at ICE Centers Around the Country\n",
      "0.754691243:MaliVai Washington on Men's Tennis Today and His Historic Wimbledon Run 20 Years Ago\n",
      "0.75181973:MaliVai Washington on Men's Tennis Today and His Historic Wimbledon Run 20 Years Ago\n",
      "0.747934103:MaliVai Washington on Men's Tennis Today and His Historic Wimbledon Run 20 Years Ago\n",
      "0.747500539:MaliVai Washington on Men's Tennis Today and His Historic Wimbledon Run 20 Years Ago\n",
      "0.745668113:MaliVai Washington on Men's Tennis Today and His Historic Wimbledon Run 20 Years Ago\n",
      "0.74564141:A Radiologist's X-Ray Photographs of Flowers from the 1930s\n",
      "0.745463729:MaliVai Washington on Men's Tennis Today and His Historic Wimbledon Run 20 Years Ago\n",
      "0.744647205:MaliVai Washington on Men's Tennis Today and His Historic Wimbledon Run 20 Years Ago\n",
      "0.74462533:MaliVai Washington on Men's Tennis Today and His Historic Wimbledon Run 20 Years Ago\n",
      "0.744099:Photos: These are the Rohingya children who escaped Myanmar’s \"ethnic cleansing\"\n",
      "0.741975486:MaliVai Washington on Men's Tennis Today and His Historic Wimbledon Run 20 Years Ago\n",
      "0.7409693:A Radiologist's X-Ray Photographs of Flowers from the 1930s\n",
      "0.740407825:MaliVai Washington on Men's Tennis Today and His Historic Wimbledon Run 20 Years Ago\n",
      "0.740165651:Photos: These are the Rohingya children who escaped Myanmar’s \"ethnic cleansing\"\n",
      "0.739833891:MaliVai Washington on Men's Tennis Today and His Historic Wimbledon Run 20 Years Ago\n",
      "0.739589691:MaliVai Washington on Men's Tennis Today and His Historic Wimbledon Run 20 Years Ago\n",
      "0.73917073:Why Jews Are Getting Themselves Arrested at ICE Centers Around the Country\n",
      "0.738759458:MaliVai Washington on Men's Tennis Today and His Historic Wimbledon Run 20 Years Ago\n",
      "0.737026274:MaliVai Washington on Men's Tennis Today and His Historic Wimbledon Run 20 Years Ago\n",
      "0.735323787:A Radiologist's X-Ray Photographs of Flowers from the 1930s\n",
      "0.735045969:A Radiologist's X-Ray Photographs of Flowers from the 1930s\n",
      "0.73133719:MaliVai Washington on Men's Tennis Today and His Historic Wimbledon Run 20 Years Ago\n",
      "0.728176653:MaliVai Washington on Men's Tennis Today and His Historic Wimbledon Run 20 Years Ago\n",
      "0.728031576:MaliVai Washington on Men's Tennis Today and His Historic Wimbledon Run 20 Years Ago\n",
      "0.727357209:MaliVai Washington on Men's Tennis Today and His Historic Wimbledon Run 20 Years Ago\n",
      "0.727111101:MaliVai Washington on Men's Tennis Today and His Historic Wimbledon Run 20 Years Ago\n",
      "0.722332716:Photos: These are the Rohingya children who escaped Myanmar’s \"ethnic cleansing\"\n",
      "0.721061587:A Radiologist's X-Ray Photographs of Flowers from the 1930s\n",
      "0.718550622:A Radiologist's X-Ray Photographs of Flowers from the 1930s\n",
      "0.715946198:MaliVai Washington on Men's Tennis Today and His Historic Wimbledon Run 20 Years Ago\n",
      "0.713737547:MaliVai Washington on Men's Tennis Today and His Historic Wimbledon Run 20 Years Ago\n"
     ]
    }
   ],
   "source": [
    "reco = get_recommendations(articles_index, 'obama', top_k = 100)\n",
    "seen = {}\n",
    "for r in reco.matches:\n",
    "    title = r.metadata['title']\n",
    "    if title not in seen:\n",
    "        print(f'{r.score}:{title}')\n",
    "        seen['title'] = \".\""
   ]
  },
  {
   "cell_type": "code",
   "execution_count": null,
   "id": "35b613d4-4f90-47ff-9585-5308717ef362",
   "metadata": {},
   "outputs": [],
   "source": []
  }
 ],
 "metadata": {
  "kernelspec": {
   "display_name": "Python 3 (ipykernel)",
   "language": "python",
   "name": "python3"
  },
  "language_info": {
   "codemirror_mode": {
    "name": "ipython",
    "version": 3
   },
   "file_extension": ".py",
   "mimetype": "text/x-python",
   "name": "python",
   "nbconvert_exporter": "python",
   "pygments_lexer": "ipython3",
   "version": "3.9.19"
  }
 },
 "nbformat": 4,
 "nbformat_minor": 5
}
