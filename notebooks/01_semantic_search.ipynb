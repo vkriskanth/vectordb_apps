{
 "cells": [
  {
   "cell_type": "code",
   "execution_count": 1,
   "id": "6b10ebf4-2640-4457-801a-9a47165af084",
   "metadata": {},
   "outputs": [],
   "source": [
    "import warnings\n",
    "warnings.filterwarnings('ignore')"
   ]
  },
  {
   "cell_type": "code",
   "execution_count": 2,
   "id": "c10a2ed6-b2f4-47ca-8ad9-b90e3222a6b1",
   "metadata": {},
   "outputs": [],
   "source": [
    "from datasets import load_dataset\n",
    "from sentence_transformers import SentenceTransformer\n",
    "from pinecone import Pinecone, ServerlessSpec\n",
    "from DLAIUtils import Utils\n",
    "\n",
    "import os\n",
    "import time\n",
    "import torch"
   ]
  },
  {
   "cell_type": "code",
   "execution_count": 3,
   "id": "2da1df22-e376-42b9-a196-4800dfb88b15",
   "metadata": {},
   "outputs": [],
   "source": [
    "from tqdm.auto import tqdm"
   ]
  },
  {
   "cell_type": "markdown",
   "id": "10cdd10b-2311-4ee6-b6b1-b89bb2210ed8",
   "metadata": {},
   "source": [
    "##Load the data set"
   ]
  },
  {
   "cell_type": "code",
   "execution_count": 7,
   "id": "e3ac58fc-25b9-4dd1-a765-6d89f8568de2",
   "metadata": {},
   "outputs": [],
   "source": [
    "dataset = load_dataset('quora', split='train[240000:290000]')"
   ]
  },
  {
   "cell_type": "code",
   "execution_count": 8,
   "id": "710eaa92-abf2-4032-8462-ef518caba735",
   "metadata": {},
   "outputs": [
    {
     "data": {
      "text/plain": [
       "{'questions': [{'id': [207550, 351729],\n",
       "   'text': ['What is the truth of life?', \"What's the evil truth of life?\"]},\n",
       "  {'id': [33183, 351730],\n",
       "   'text': ['Which is the best smartphone under 20K in India?',\n",
       "    'Which is the best smartphone with in 20k in India?']},\n",
       "  {'id': [351731, 351732],\n",
       "   'text': ['Steps taken by Canadian government to improve literacy rate?',\n",
       "    'Can I send homemade herbal hair oil from India to US via postal or private courier services?']},\n",
       "  {'id': [37799, 94186],\n",
       "   'text': ['What is a good way to lose 30 pounds in 2 months?',\n",
       "    'What can I do to lose 30 pounds in 2 months?']},\n",
       "  {'id': [351733, 351734],\n",
       "   'text': ['Which of the following most accurately describes the translation of the graph y = (x+3)^2 -2 to the graph of y = (x -2)^2 +2?',\n",
       "    'How do you graph x + 2y = -2?']}],\n",
       " 'is_duplicate': [False, True, False, True, False]}"
      ]
     },
     "execution_count": 8,
     "metadata": {},
     "output_type": "execute_result"
    }
   ],
   "source": [
    "dataset[:5]"
   ]
  },
  {
   "cell_type": "code",
   "execution_count": 9,
   "id": "25d1e4e7-e7fa-4b71-b7c4-32a85db3d8ad",
   "metadata": {},
   "outputs": [
    {
     "name": "stdout",
     "output_type": "stream",
     "text": [
      "What is the truth of life?\n",
      "What's the evil truth of life?\n",
      "Which is the best smartphone under 20K in India?\n",
      "Which is the best smartphone with in 20k in India?\n",
      "Steps taken by Canadian government to improve literacy rate?\n",
      "Can I send homemade herbal hair oil from India to US via postal or private courier services?\n",
      "What is a good way to lose 30 pounds in 2 months?\n",
      "What can I do to lose 30 pounds in 2 months?\n",
      "Which of the following most accurately describes the translation of the graph y = (x+3)^2 -2 to the graph of y = (x -2)^2 +2?\n",
      "How do you graph x + 2y = -2?\n"
     ]
    }
   ],
   "source": [
    "questions = []\n",
    "for record in dataset['questions']:\n",
    "    questions.extend(record['text'])\n",
    "question = list(set(questions))\n",
    "print('\\n'.join(questions[:10]))"
   ]
  },
  {
   "cell_type": "markdown",
   "id": "6d58149b-b756-4950-870a-44f6e8bc4b23",
   "metadata": {},
   "source": [
    "## We are using all-MiniLM-L6-v2 sentence-transformers model that maps sentences to a 384 dimension dense vector space\n"
   ]
  },
  {
   "cell_type": "code",
   "execution_count": 10,
   "id": "4843ae4c-1c57-4c9f-ab33-07fd76c2566b",
   "metadata": {},
   "outputs": [
    {
     "name": "stdout",
     "output_type": "stream",
     "text": [
      "Sorry no cuda\n"
     ]
    }
   ],
   "source": [
    "device = 'cuda' if torch.cuda.is_available() else 'cpu'\n",
    "if device != 'cuda':\n",
    "    print('Sorry no cuda')\n",
    "model = SentenceTransformer('all-MiniLM-L6-v2', device = device)"
   ]
  },
  {
   "cell_type": "code",
   "execution_count": 11,
   "id": "29aaf725-5ecc-4233-8154-af04b1600b2a",
   "metadata": {},
   "outputs": [
    {
     "data": {
      "text/plain": [
       "(384,)"
      ]
     },
     "execution_count": 11,
     "metadata": {},
     "output_type": "execute_result"
    }
   ],
   "source": [
    "query = 'which city is the most populated in the world?'\n",
    "xq = model.encode(query)\n",
    "xq.shape"
   ]
  },
  {
   "cell_type": "code",
   "execution_count": 12,
   "id": "25cec200-7d86-4cf4-b23b-9409de27daa8",
   "metadata": {},
   "outputs": [
    {
     "name": "stdout",
     "output_type": "stream",
     "text": [
      "[ 1.50860816e-01  1.29710687e-02 -5.08222915e-02  6.06876351e-02\n",
      " -3.35445802e-04 -2.90263370e-02  5.06248586e-02  2.99537759e-02\n",
      " -3.10023874e-02  5.96766174e-02  5.95133603e-02 -1.33624256e-01\n",
      "  7.15946360e-03  4.92674299e-02  1.59945562e-02 -2.03522742e-02\n",
      "  3.74022909e-02 -9.18012187e-02  7.44751617e-02 -5.41728698e-02\n",
      " -5.14636636e-02 -4.53633741e-02  6.31610602e-02  4.29923497e-02\n",
      "  2.43183039e-02  2.65026409e-02  1.74598321e-02  8.24665278e-02\n",
      " -1.59858707e-02 -7.79033499e-03 -1.71448514e-02  7.63704404e-02\n",
      "  1.10217586e-01 -2.29893699e-02  8.37783143e-03  7.16604386e-03\n",
      " -5.05503267e-03 -4.04071100e-02  3.40002216e-02  3.00653744e-02\n",
      "  4.23340052e-02 -2.88223643e-02  3.75781246e-02 -4.33307774e-02\n",
      "  2.17319559e-02  8.27986002e-03 -1.04310019e-02  7.60997087e-02\n",
      "  3.55798937e-03  4.72234040e-02  3.57121490e-02  7.10471943e-02\n",
      " -2.74737459e-02  2.82487366e-03  1.41288498e-02 -3.47286314e-02\n",
      "  4.96940338e-04 -3.59864160e-02  5.80318389e-04  1.07831005e-02\n",
      " -1.44697051e-03  4.60125804e-02  2.73878057e-03  3.98804061e-02\n",
      "  7.77757540e-02  2.47401409e-02  3.38446647e-02  4.81838025e-02\n",
      " -1.74975581e-02 -4.13806774e-02  6.50567114e-02 -1.55672552e-02\n",
      "  1.48954792e-02  1.09179933e-02  1.46861011e-02 -1.02522716e-01\n",
      " -2.33959798e-02  1.25524448e-02 -1.22235073e-02  7.02659786e-02\n",
      "  9.04505029e-02  8.46167468e-03 -5.67268282e-02  5.59987947e-02\n",
      " -3.63559043e-03  2.16721222e-02 -1.73127763e-02  3.61833014e-02\n",
      " -2.94484384e-02 -3.78153026e-02 -2.27158256e-02  1.00750417e-01\n",
      " -6.23688810e-02  2.34935395e-02 -5.64872846e-02  5.65291792e-02\n",
      " -2.95202062e-02 -3.22049186e-02 -3.49645428e-02 -4.93092369e-03\n",
      " -5.88411167e-02  2.84449290e-02  1.04049958e-01  4.63022962e-02\n",
      " -4.01198193e-02 -6.48189560e-02 -7.45328739e-02  2.67529953e-02\n",
      " -7.22474083e-02  4.67022359e-02 -6.11195825e-02 -5.77815920e-02\n",
      " -4.73094806e-02  5.16157039e-02  6.66107191e-03 -1.17837219e-02\n",
      "  1.00815266e-01  2.28733085e-02 -4.79180738e-02  4.96792905e-02\n",
      " -4.11552452e-02 -4.39425446e-02 -4.66852449e-02  5.13562597e-02\n",
      "  1.06139416e-02 -2.50806883e-02 -1.83045324e-02 -6.32089173e-33\n",
      " -4.39462923e-02 -1.20059572e-01  1.01136677e-01  8.24262500e-02\n",
      " -5.55491745e-02 -5.69751114e-02  1.83991585e-02 -2.75889300e-02\n",
      " -9.55842435e-03 -5.93916588e-02  2.69412249e-03 -1.14852153e-01\n",
      " -1.58277843e-02  2.42454950e-02  7.79300183e-02  3.65475677e-02\n",
      "  3.54975760e-02  3.51128019e-02 -1.51175767e-01  3.70702744e-02\n",
      "  9.83954128e-03  8.33407342e-02 -2.36753840e-03 -3.59970629e-02\n",
      " -5.80666736e-02  3.53527977e-03  3.16514112e-02 -3.10317911e-02\n",
      "  5.54177240e-02 -3.04117985e-02  7.14341477e-02 -7.59042054e-03\n",
      "  1.31854508e-02 -2.92498246e-02  4.05388400e-02  7.68264234e-02\n",
      " -2.62773968e-02  2.90599801e-02 -3.32363881e-02  1.65869966e-02\n",
      " -3.83236557e-02 -3.86311635e-02  9.08701122e-03  1.35456258e-03\n",
      "  3.54728773e-02  4.94070537e-02 -1.35092856e-02 -5.17059490e-02\n",
      " -2.55237985e-02 -1.08915605e-02  9.30248201e-03  2.15242594e-03\n",
      " -1.13504902e-01  7.49539584e-02  6.63588941e-02  2.40175407e-02\n",
      "  1.87402833e-02  1.52875418e-02  2.45041847e-02  1.10359222e-01\n",
      " -1.06846966e-01  5.43386079e-02  1.96784213e-02  2.00692117e-02\n",
      "  1.53444678e-01 -2.95830462e-02  3.85143533e-02  2.52287998e-03\n",
      " -1.86602343e-02  6.26409054e-02  4.88260649e-02  1.42799356e-04\n",
      "  3.96575555e-02  9.41863358e-02  5.69899625e-04  1.62100811e-02\n",
      "  7.08777830e-02  1.12343347e-02 -2.89199110e-02  5.46819568e-02\n",
      "  1.25709856e-02 -3.80423968e-03 -3.60459946e-02  1.11114820e-02\n",
      "  6.12073429e-02  1.21990861e-02  1.09928101e-02 -1.00575000e-01\n",
      "  1.48818456e-02 -1.53344041e-02 -5.72263822e-02 -1.08474419e-02\n",
      "  1.28573971e-03 -7.33765736e-02 -1.13397256e-01  3.91340583e-33\n",
      " -2.78156567e-02 -3.92383635e-02  7.89135415e-03 -3.31691764e-02\n",
      " -1.02046058e-01 -3.23006101e-02  3.92892398e-02  4.31293249e-02\n",
      " -1.27266441e-02  5.52906655e-02 -6.78523779e-02 -5.19610085e-02\n",
      "  1.75767720e-01 -2.60392241e-02  5.02112955e-02  6.15827478e-02\n",
      "  9.12058577e-02 -1.27408607e-02 -5.69666587e-02  2.72945352e-02\n",
      " -5.50433286e-02 -3.54708582e-02 -7.82414712e-03 -6.98426645e-03\n",
      " -7.81824067e-02 -2.74379668e-03 -1.52199000e-01 -4.76334468e-02\n",
      " -4.02200408e-02 -3.63827124e-02 -1.86088420e-02  1.35078011e-02\n",
      " -7.06261620e-02 -7.19672907e-03 -2.92432811e-02  2.05202270e-02\n",
      "  2.58383178e-03  4.24924083e-02 -1.62083413e-02  9.69415754e-02\n",
      " -5.34600765e-02 -1.41348867e-02 -2.94680092e-02  4.40547876e-02\n",
      "  1.27094053e-02  3.89990509e-02 -6.16461262e-02  4.76006186e-03\n",
      "  1.69031434e-02 -4.25075330e-02  4.59336005e-02  3.42662074e-02\n",
      " -7.84273148e-02  3.63899544e-02  6.00521378e-02  4.43230085e-02\n",
      " -1.19443471e-02  7.79705271e-02 -1.54907175e-03 -9.17240232e-02\n",
      "  3.94992828e-02  7.73322675e-03 -4.85046394e-02  7.14286491e-02\n",
      " -1.55745437e-02 -3.27937379e-02  1.19734528e-02  3.82728279e-02\n",
      " -3.45531176e-03 -8.55741948e-02  2.60249358e-02  5.19886054e-02\n",
      " -3.32627185e-02 -2.76634470e-02 -2.98016984e-02  1.94582827e-02\n",
      "  7.95826316e-02  6.54215217e-02  1.01919733e-01 -1.03411153e-02\n",
      "  5.92855811e-02  6.20588176e-02 -2.09340639e-02 -6.15015477e-02\n",
      " -3.62642258e-02  2.40186416e-02  2.12602951e-02 -9.80800092e-02\n",
      " -1.65122133e-02 -1.44145009e-03 -4.93981764e-02  4.78734300e-02\n",
      " -5.90092391e-02 -1.55327350e-01 -4.45593335e-02 -1.89026874e-08\n",
      " -1.15726460e-02  2.88208928e-02 -2.19916869e-02  2.58944705e-02\n",
      "  4.41694260e-02 -4.72962111e-02  9.65851843e-02  1.18092097e-01\n",
      " -6.13943208e-03  6.07888773e-02  2.43726606e-03  2.19921619e-02\n",
      " -5.59688127e-03 -1.28865400e-02 -3.50236855e-02 -3.32664028e-02\n",
      " -3.81258689e-02 -1.94111299e-02  1.25463295e-03 -1.56648923e-02\n",
      "  3.91245224e-02  4.99420892e-03 -5.72018772e-02 -5.69661744e-02\n",
      "  3.12822834e-02 -7.29241818e-02 -2.19926722e-02 -5.32131940e-02\n",
      " -2.80537382e-02 -7.31065450e-03  1.54460529e-02 -1.05617985e-01\n",
      " -4.51053157e-02 -3.68995480e-02  3.54496315e-02 -1.94618553e-02\n",
      " -2.28579845e-02 -4.96497564e-03 -4.57563475e-02 -1.14124000e-01\n",
      " -6.43199077e-03  1.34236822e-02  2.25758459e-02  2.51029842e-02\n",
      "  3.39654610e-02 -6.47709593e-02  4.33925316e-02 -2.57033855e-02\n",
      "  2.52899639e-02 -4.77487184e-02 -1.27414852e-01 -2.43732352e-02\n",
      "  4.86195609e-02 -1.02466252e-02 -2.43240390e-02 -5.35421818e-02\n",
      " -1.57449078e-02 -3.12812557e-03 -5.75822126e-03  5.07179834e-02\n",
      "  4.77837324e-02  1.98364947e-02  1.88763347e-02  5.23564480e-02]\n"
     ]
    }
   ],
   "source": [
    "print(xq)"
   ]
  },
  {
   "cell_type": "markdown",
   "id": "f73fea6a-fc7b-4426-a0a2-5b29843c72d9",
   "metadata": {},
   "source": [
    "## Setting up Pinecone"
   ]
  },
  {
   "cell_type": "code",
   "execution_count": 13,
   "id": "bb5da89f-5bee-4889-b1bf-b982944efc06",
   "metadata": {},
   "outputs": [],
   "source": [
    "utils = Utils()\n",
    "PINECONE_API_KEY = utils.get_pinecone_api_key()"
   ]
  },
  {
   "cell_type": "code",
   "execution_count": 17,
   "id": "299f6aa3-2d46-4a6d-805b-7ad043415d37",
   "metadata": {},
   "outputs": [
    {
     "name": "stdout",
     "output_type": "stream",
     "text": [
      "dl-ai-lwhuo6rht3blbkfjqfz7dzqe3fex2vopanwu\n",
      "<pinecone.data.index.Index object at 0x7f823319df40>\n"
     ]
    }
   ],
   "source": [
    "pinecone = Pinecone(api_key = PINECONE_API_KEY)\n",
    "INDEX_NAME = utils.create_dlai_index_name('dl-ai')\n",
    "\n",
    "if INDEX_NAME in [index.name for index in pinecone.list_indexes()]:\n",
    "    pinecone.delete_index(INDEX_NAME)\n",
    "print(INDEX_NAME)\n",
    "pinecone.create_index(name = INDEX_NAME,\n",
    "                      dimension = model.get_sentence_embedding_dimension(),\n",
    "                      metric ='cosine',\n",
    "                      spec = ServerlessSpec(cloud='aws', region='us-west-2'))\n",
    "\n",
    "index = pinecone.Index(INDEX_NAME)\n",
    "print(index)\n",
    "                      "
   ]
  },
  {
   "cell_type": "markdown",
   "id": "7e94a67c-1449-4e0b-b93a-fd32fa041730",
   "metadata": {},
   "source": [
    "## Create Embeddings and upsert to pinecone"
   ]
  },
  {
   "cell_type": "code",
   "execution_count": 18,
   "id": "34ce83fb-fba4-42e2-8c1a-9106cd8585b5",
   "metadata": {},
   "outputs": [
    {
     "data": {
      "application/vnd.jupyter.widget-view+json": {
       "model_id": "e6bb38b627444152a2e521c701d6f091",
       "version_major": 2,
       "version_minor": 0
      },
      "text/plain": [
       "  0%|          | 0/50 [00:00<?, ?it/s]"
      ]
     },
     "metadata": {},
     "output_type": "display_data"
    }
   ],
   "source": [
    "batch_size = 200\n",
    "vector_limit = 10000\n",
    "\n",
    "questions = question[:vector_limit]\n",
    "import json\n",
    "\n",
    "for i in tqdm(range(0,len(questions), batch_size)):\n",
    "    #finding end of batch\n",
    "    i_end = min(i+batch_size, len(questions))\n",
    "    #create id's batch \n",
    "    ids = [str(x) for x in range(i, i_end)]\n",
    "    #create metadata batch\n",
    "    metadatas = [{'text': text} for text in questions[i:i_end]]\n",
    "    #create embeddings\n",
    "    xc = model.encode(questions[i:i_end])\n",
    "    #create records list for upsert\n",
    "    records = zip(ids, xc, metadatas)\n",
    "    #upsert to pinecone\n",
    "    index.upsert(vectors= records)"
   ]
  },
  {
   "cell_type": "code",
   "execution_count": 19,
   "id": "cce2a3a8-50d9-4cca-a18d-d17807bb10cc",
   "metadata": {},
   "outputs": [
    {
     "data": {
      "text/plain": [
       "{'dimension': 384,\n",
       " 'index_fullness': 0.0,\n",
       " 'namespaces': {'': {'vector_count': 10000}},\n",
       " 'total_vector_count': 10000}"
      ]
     },
     "execution_count": 19,
     "metadata": {},
     "output_type": "execute_result"
    }
   ],
   "source": [
    "index.describe_index_stats()"
   ]
  },
  {
   "cell_type": "markdown",
   "id": "27cbe116-c2ef-495f-901e-8b7ac8f84135",
   "metadata": {},
   "source": [
    "## RUn your query"
   ]
  },
  {
   "cell_type": "code",
   "execution_count": 23,
   "id": "5829b16f-3b0c-4804-90e4-be1d59072c11",
   "metadata": {},
   "outputs": [],
   "source": [
    "#small helper function so that we can repeat queries later\n",
    "def run_query(query):\n",
    "    embedding = model.encode(query).tolist()\n",
    "    results = index.query(top_k = 10, vector = embedding, include_metadata= True, include_values= False)\n",
    "    for result in results['matches']:\n",
    "        print(f\"{round(result['score'],2)}: {result['metadata']['text']}\")"
   ]
  },
  {
   "cell_type": "code",
   "execution_count": 24,
   "id": "e5793f6e-c508-440a-904a-0af5188a35d3",
   "metadata": {},
   "outputs": [
    {
     "name": "stdout",
     "output_type": "stream",
     "text": [
      "0.69: What is the most beautiful city in the world?\n",
      "0.67: Which is the most urbanised city in India?\n",
      "0.64: Which city has the most museums per capita?\n",
      "0.58: What country has the most beautiful people?\n",
      "0.56: Which is the most powerfull country in the world?\n",
      "0.56: What percentage of the world's population lives in developing countries?\n",
      "0.54: What's the highest mountain in the world?\n",
      "0.53: Why is Uttar Pradesh the most populous state in India?\n",
      "0.53: What are the world`s deadliest tourist destinations?\n",
      "0.51: Which is the safest country in the world?\n"
     ]
    }
   ],
   "source": [
    "run_query(\"Which city has the highest population in the world?\")"
   ]
  },
  {
   "cell_type": "code",
   "execution_count": 25,
   "id": "3fcdbc14-2ffd-44e3-b013-d6485c5b9a13",
   "metadata": {},
   "outputs": [
    {
     "name": "stdout",
     "output_type": "stream",
     "text": [
      "0.41: What is a good substitute for bulgur?\n",
      "0.41: What is a substitute for red wine in making bolognese?\n",
      "0.4: What is the best spaghetti bolognese recipe?\n",
      "0.4: How do I manufacture a bicycle in Brazil?\n",
      "0.39: How do you make gravy without any dairy?\n",
      "0.38: How do I make friendship bracelets?\n",
      "0.38: How do you make love?\n",
      "0.38: What is a good substitute for tarragon in a recipe?\n",
      "0.38: How can I reduce bilirubin levels in my body?\n",
      "0.36: How can I make a delicious cake?\n"
     ]
    }
   ],
   "source": [
    "query = 'how do i make biryani?'\n",
    "run_query(query)"
   ]
  },
  {
   "cell_type": "code",
   "execution_count": null,
   "id": "6e3eb31e-0bef-498c-b2f6-515165677000",
   "metadata": {},
   "outputs": [],
   "source": []
  }
 ],
 "metadata": {
  "kernelspec": {
   "display_name": "Python 3 (ipykernel)",
   "language": "python",
   "name": "python3"
  },
  "language_info": {
   "codemirror_mode": {
    "name": "ipython",
    "version": 3
   },
   "file_extension": ".py",
   "mimetype": "text/x-python",
   "name": "python",
   "nbconvert_exporter": "python",
   "pygments_lexer": "ipython3",
   "version": "3.9.19"
  }
 },
 "nbformat": 4,
 "nbformat_minor": 5
}
