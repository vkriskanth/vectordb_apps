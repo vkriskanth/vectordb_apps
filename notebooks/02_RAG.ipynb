{
 "cells": [
  {
   "cell_type": "code",
   "execution_count": 1,
   "id": "667d3e9d-1ddf-4a15-892e-6d8d08f408eb",
   "metadata": {},
   "outputs": [],
   "source": [
    "import warnings\n",
    "warnings.filterwarnings('ignore')"
   ]
  },
  {
   "cell_type": "code",
   "execution_count": 2,
   "id": "befcd76a-5e7f-4cca-8518-ce4dc8052120",
   "metadata": {},
   "outputs": [],
   "source": [
    "from datasets import load_dataset\n",
    "from openai import OpenAI\n",
    "from pinecone import Pinecone, ServerlessSpec\n",
    "from tqdm.auto import tqdm\n",
    "from DLAIUtils import Utils\n",
    "\n",
    "import ast\n",
    "import os\n",
    "import pandas as pd"
   ]
  },
  {
   "cell_type": "code",
   "execution_count": 3,
   "id": "77884794-d01c-427d-b4c9-6726e053cceb",
   "metadata": {},
   "outputs": [],
   "source": [
    "utils = Utils()\n",
    "PINECONE_API_KEY = utils.get_pinecone_api_key()\n"
   ]
  },
  {
   "cell_type": "code",
   "execution_count": 4,
   "id": "3ed745ae-4d6b-4b2e-baab-94f2488f1e65",
   "metadata": {},
   "outputs": [],
   "source": [
    "pinecone = Pinecone(api_key=PINECONE_API_KEY)\n",
    "utils = Utils()\n",
    "INDEX_NAME = utils.create_dlai_index_name('dl-ai')\n",
    "if INDEX_NAME in [index.name for index in pinecone.list_indexes()]:\n",
    "    pinecone.delete_index(INDEX_NAME)\n",
    "\n",
    "pinecone.create_index(name = INDEX_NAME, dimension = 1536, metric='cosine',\n",
    "                      spec = ServerlessSpec(cloud='aws', region='us-west-2'))\n",
    "index = pinecone.Index(INDEX_NAME)"
   ]
  },
  {
   "cell_type": "code",
   "execution_count": 5,
   "id": "2c482f8d-113a-4619-bd0a-038a083052d5",
   "metadata": {},
   "outputs": [],
   "source": [
    "!wget -q -O lesson2-wiki.csv.zip \"https://www.dropbox.com/scl/fi/yxzmsrv2sgl249zcspeqb/lesson2-wiki.csv.zip?rlkey=paehnoxjl3s5x53d1bedt4pmc&dl=0\""
   ]
  },
  {
   "cell_type": "code",
   "execution_count": 6,
   "id": "6f900c3c-fc9e-4aff-889b-5a80ab967950",
   "metadata": {},
   "outputs": [
    {
     "name": "stdout",
     "output_type": "stream",
     "text": [
      "Archive:  lesson2-wiki.csv.zip\n",
      "  inflating: wiki.csv                \n"
     ]
    }
   ],
   "source": [
    "!unzip lesson2-wiki.csv.zip"
   ]
  },
  {
   "cell_type": "markdown",
   "id": "d6760b8a-ef8d-408f-9593-9469145efa12",
   "metadata": {},
   "source": [
    "## TO achieve a more comprehensive context, large number of articles is beneficial. "
   ]
  },
  {
   "cell_type": "code",
   "execution_count": 8,
   "id": "e35351d0-5324-43c9-a187-2b74e04fa586",
   "metadata": {},
   "outputs": [
    {
     "data": {
      "text/html": [
       "<div>\n",
       "<style scoped>\n",
       "    .dataframe tbody tr th:only-of-type {\n",
       "        vertical-align: middle;\n",
       "    }\n",
       "\n",
       "    .dataframe tbody tr th {\n",
       "        vertical-align: top;\n",
       "    }\n",
       "\n",
       "    .dataframe thead th {\n",
       "        text-align: right;\n",
       "    }\n",
       "</style>\n",
       "<table border=\"1\" class=\"dataframe\">\n",
       "  <thead>\n",
       "    <tr style=\"text-align: right;\">\n",
       "      <th></th>\n",
       "      <th>id</th>\n",
       "      <th>metadata</th>\n",
       "      <th>values</th>\n",
       "    </tr>\n",
       "  </thead>\n",
       "  <tbody>\n",
       "    <tr>\n",
       "      <th>1</th>\n",
       "      <td>1-0</td>\n",
       "      <td>{'chunk': 0, 'source': 'https://simple.wikiped...</td>\n",
       "      <td>[-0.011254455894231796, -0.01698738895356655, ...</td>\n",
       "    </tr>\n",
       "    <tr>\n",
       "      <th>2</th>\n",
       "      <td>1-1</td>\n",
       "      <td>{'chunk': 1, 'source': 'https://simple.wikiped...</td>\n",
       "      <td>[-0.0015197008615359664, -0.007858820259571075...</td>\n",
       "    </tr>\n",
       "    <tr>\n",
       "      <th>3</th>\n",
       "      <td>1-2</td>\n",
       "      <td>{'chunk': 2, 'source': 'https://simple.wikiped...</td>\n",
       "      <td>[-0.009930099360644817, -0.012211072258651257,...</td>\n",
       "    </tr>\n",
       "    <tr>\n",
       "      <th>4</th>\n",
       "      <td>1-3</td>\n",
       "      <td>{'chunk': 3, 'source': 'https://simple.wikiped...</td>\n",
       "      <td>[-0.011600767262279987, -0.012608098797500134,...</td>\n",
       "    </tr>\n",
       "    <tr>\n",
       "      <th>5</th>\n",
       "      <td>1-4</td>\n",
       "      <td>{'chunk': 4, 'source': 'https://simple.wikiped...</td>\n",
       "      <td>[-0.026462381705641747, -0.016362832859158516,...</td>\n",
       "    </tr>\n",
       "  </tbody>\n",
       "</table>\n",
       "</div>"
      ],
      "text/plain": [
       "    id  ...                                             values\n",
       "1  1-0  ...  [-0.011254455894231796, -0.01698738895356655, ...\n",
       "2  1-1  ...  [-0.0015197008615359664, -0.007858820259571075...\n",
       "3  1-2  ...  [-0.009930099360644817, -0.012211072258651257,...\n",
       "4  1-3  ...  [-0.011600767262279987, -0.012608098797500134,...\n",
       "5  1-4  ...  [-0.026462381705641747, -0.016362832859158516,...\n",
       "\n",
       "[5 rows x 3 columns]"
      ]
     },
     "execution_count": 8,
     "metadata": {},
     "output_type": "execute_result"
    }
   ],
   "source": [
    "max_articles_num = 500\n",
    "df = pd.read_csv('./wiki.csv',nrows = max_articles_num)\n",
    "df.head()"
   ]
  },
  {
   "cell_type": "code",
   "execution_count": 10,
   "id": "f52fcbac-b4f0-4560-8245-ea6763867aa7",
   "metadata": {},
   "outputs": [
    {
     "data": {
      "application/vnd.jupyter.widget-view+json": {
       "model_id": "2da4062685ba436cbfcce5546cf400ad",
       "version_major": 2,
       "version_minor": 0
      },
      "text/plain": [
       "  0%|          | 0/500 [00:00<?, ?it/s]"
      ]
     },
     "metadata": {},
     "output_type": "display_data"
    }
   ],
   "source": [
    "prepped = []\n",
    "for i, row in tqdm(df.iterrows(), total = df.shape[0]):\n",
    "    meta = ast.literal_eval(row['metadata'])\n",
    "    prepped.append({'id': row['id'], \n",
    "    'values': ast.literal_eval(row['values']),\n",
    "    'metadata': meta})\n",
    "    if len(prepped) >= 250:\n",
    "        index.upsert(prepped)\n",
    "        prepped = []\n"
   ]
  },
  {
   "cell_type": "code",
   "execution_count": 11,
   "id": "e123ea11-19c2-433d-ac33-ec9c5aab06b7",
   "metadata": {},
   "outputs": [
    {
     "data": {
      "text/plain": [
       "{'dimension': 1536,\n",
       " 'index_fullness': 0.0,\n",
       " 'namespaces': {'': {'vector_count': 500}},\n",
       " 'total_vector_count': 500}"
      ]
     },
     "execution_count": 11,
     "metadata": {},
     "output_type": "execute_result"
    }
   ],
   "source": [
    "index.describe_index_stats()"
   ]
  },
  {
   "cell_type": "code",
   "execution_count": 12,
   "id": "4fd58f98-3133-40b4-aa65-c51ea9583fc0",
   "metadata": {},
   "outputs": [],
   "source": [
    "OPENAI_API_KEY = utils.get_openai_api_key()\n",
    "openai_client = OpenAI(api_key= OPENAI_API_KEY)\n",
    "\n",
    "def get_embeddings(articles, model = \"text-embedding-ada-002\"):\n",
    "    return openai_client.embeddings.create(input = articles, model = model)"
   ]
  },
  {
   "cell_type": "code",
   "execution_count": 15,
   "id": "7b9b8d2a-870d-457f-b79b-647ba4d275a5",
   "metadata": {},
   "outputs": [
    {
     "name": "stdout",
     "output_type": "stream",
     "text": [
      "August 13  1961: Building of the Berlin Wall begins.\n",
      " August 14  1945: Japan announces its surrender at the end of World War II.\n",
      " August 14/15  1947: India is partitioned at independence from the UK, as the new mainly Islamic state of Pakistan is created.\n",
      " August 15  1960: The Republic of the Congo becomes independent.\n",
      " August 15  1971: Bahrain becomes independent.\n",
      " August 16  1977: Elvis Presley dies aged 42, leading to a worldwide outpouring of grief.\n",
      " August 17  1945: Indonesia declares independence from the Netherlands.\n",
      " August 17  1960: Gabon becomes independent.\n",
      " August 17  1962: Peter Fechter becomes the first person to be shot dead at the Berlin Wall.\n",
      " August 19  43 BC: Augustus becomes Roman consul.\n",
      " August 19  14: Augustus dies.\n",
      " August 19  1919: Afghanistan becomes independent.\n",
      " August 19  1991: The August Coup against Mikhail Gorbachev, in the Soviet Union, begins.\n",
      " August 20  1940: Leon Trotsky is fatally wounded with an ice pick in Mexico.\n",
      " August 20  1968: The Prague Spring uprising is crushed.\n",
      " August 20  1991: Estonia regains its independence from the Soviet Union.\n",
      " August 21  1959: Hawaii becomes the 50th State of the US.\n",
      " August 24  79: Vesuvius erupts, destroying Pompeii and neighbouring Herculaneum.\n",
      " August 24  1991: Ukraine regains independence from the Soviet Union.\n",
      " August 25  1825: Uruguay declares independence from Brazil.\n",
      "After the liberation of Denmark, one part of the country was not. That was the island of Bornholm. The German Commandant von Kamptz who was stationed there, refused to surrender to the Soviets as the German were fleeing to Bornholm and further to Sweden. The Soviets then bombed the two biggest towns Rønne and Nexø. After the Germans were captured on May 9, 1945, the Soviet Army occupied the island until April 6, 1946.\n",
      "\n",
      "After World War Two, Denmark became a member of NATO and the European Union. Greenland and the Faroe Islands are now part of the Kingdom of Denmark and have their own governments and limited power.\n",
      "\n",
      "Government and politics \n",
      "\n",
      "Denmark has three branches of power; the judiciary (the courts), the executive (the Prime Minister and the cabinet) and the legislature (the Danish parliament). The current Prime Minister of Denmark is Mette Frederiksen, who was elected in June 2019.\n",
      "\n",
      "Denmark is a Kingdom which means it has a monarch (a king or queen). The current monarch is Queen Margrethe II. Margrethe II does not have a lot of power (she does not make any important decisions) and has a symbolic role. Denmark became a constitutional monarchy in 1849.\n",
      "\n",
      "Elections to the parliament are held every four years, and the winner of the election is the party or coalition which gets the most votes and seats in the parliament. After the elections are done, several parties who are in agreement will group together to form a coalition government, and the leader of the largest party becomes the prime minister.\n",
      "\n",
      "Here is a short summary of the biggest political parties in Denmark, from left to right on the political axis:\n",
      "In 1989, there were protests in Tian'anmen Square because some people wanted democracy.\n",
      "\n",
      "Special places\n",
      "Important places in Beijing include:\n",
      " The Great Wall of China (Chángchéng), in the mountains between Beijing and the grasslands of Mongolia\n",
      " The Forbidden City (Gùgōng), the most important home of the emperors of Ming and Qing China\n",
      " Tian'anmen Square (Tiān'ānmén Guǎngchǎng), surrounded by China's most important government buildings and museums\n",
      " Jingshan & Beihai Parks, the hill overlooking the Forbidden City and the lake beside it, with many temples\n",
      " The Summer Palace (Yìhéyuán) and Old Summer Palace (Yuánmíng Yuán), the more natural home of the last Qing emperors and what is left of an older one\n",
      " Prince Gong's Mansion, a very nice old house for one of the Qing princes\n",
      " The Imperial Ancestral Temple (Tàimiào), where the emperors remembered the earlier people in their families\n",
      " The Temple of Heaven (Tiāntán) and Temple of the Earth (Dìtán), important places for China's old national religion\n",
      " The Temples of the Sun and the Moon, other important places for China's old national religion\n",
      " The Temple of Confucius and Imperial Academy, important places for China's old kind of education\n",
      " Niujie Mosque, a place for Beijing's Muslims and one of the city's oldest buildings\n",
      " The National and Urban Planning Museums\n",
      " Olympic Green, the park left from the 2008 Beijing Olympics\n",
      " Marco Polo Bridge, a very old bridge across the main river west of town\n",
      " Ming Tombs, where many Ming emperors were buried\n",
      " Zhoukoudian, caves in the mountains west of town where people lived long, long ago\n"
     ]
    }
   ],
   "source": [
    "query = \"What is the berlin wall?\"\n",
    "embed = get_embeddings(query)\n",
    "#print(embed)\n",
    "res = index.query(vector = embed.data[0].embedding, top_k =3, include_metadata= True)\n",
    "text = [r['metadata']['text'] for r in res['matches']]\n",
    "print('\\n'.join(text))"
   ]
  },
  {
   "cell_type": "code",
   "execution_count": 16,
   "id": "81de2437-86a2-4c8e-8803-e5e1701d084e",
   "metadata": {},
   "outputs": [
    {
     "name": "stdout",
     "output_type": "stream",
     "text": [
      "Answer the question based on the context below. \n",
      "\n",
      "Context: \n",
      "August 13  1961: Building of the Berlin Wall begins.\n",
      " August 14  1945: Japan announces its surrender at the end of World War II.\n",
      " August 14/15  1947: India is partitioned at independence from the UK, as the new mainly Islamic state of Pakistan is created.\n",
      " August 15  1960: The Republic of the Congo becomes independent.\n",
      " August 15  1971: Bahrain becomes independent.\n",
      " August 16  1977: Elvis Presley dies aged 42, leading to a worldwide outpouring of grief.\n",
      " August 17  1945: Indonesia declares independence from the Netherlands.\n",
      " August 17  1960: Gabon becomes independent.\n",
      " August 17  1962: Peter Fechter becomes the first person to be shot dead at the Berlin Wall.\n",
      " August 19  43 BC: Augustus becomes Roman consul.\n",
      " August 19  14: Augustus dies.\n",
      " August 19  1919: Afghanistan becomes independent.\n",
      " August 19  1991: The August Coup against Mikhail Gorbachev, in the Soviet Union, begins.\n",
      " August 20  1940: Leon Trotsky is fatally wounded with an ice pick in Mexico.\n",
      " August 20  1968: The Prague Spring uprising is crushed.\n",
      " August 20  1991: Estonia regains its independence from the Soviet Union.\n",
      " August 21  1959: Hawaii becomes the 50th State of the US.\n",
      " August 24  79: Vesuvius erupts, destroying Pompeii and neighbouring Herculaneum.\n",
      " August 24  1991: Ukraine regains independence from the Soviet Union.\n",
      " August 25  1825: Uruguay declares independence from Brazil.\n",
      "\n",
      " ----- \n",
      "\n",
      "Everything2 or E2 is a website.  It lets people make pages about many different things, and some people use it as a diary.\n",
      "\n",
      "E2 users create pages called nodes and add stuff in writeups.  Only logged-in users can create writeups.  Only the person who created the writeup or someone who the website owners (called \"gods\") choose can edit the writeup.  On the other hand, on Wikipedia, anyone can edit pages, but on Everything2 only those who can edit the writeup can edit pages.\n",
      "\n",
      "Everything2 does not require a neutral point of view like Wikipedia does. So, it is possible to have more than one article (writeups) under the same title (node), each by different authors, and presenting different points of view.\n",
      "\n",
      "Other websites \n",
      " Everything2 website\n",
      " Everything2.com article about Wikipedia\n",
      "\n",
      "Websites\n",
      "\n",
      " ----- \n",
      "\n",
      "After the liberation of Denmark, one part of the country was not. That was the island of Bornholm. The German Commandant von Kamptz who was stationed there, refused to surrender to the Soviets as the German were fleeing to Bornholm and further to Sweden. The Soviets then bombed the two biggest towns Rønne and Nexø. After the Germans were captured on May 9, 1945, the Soviet Army occupied the island until April 6, 1946.\n",
      "\n",
      "After World War Two, Denmark became a member of NATO and the European Union. Greenland and the Faroe Islands are now part of the Kingdom of Denmark and have their own governments and limited power.\n",
      "\n",
      "Government and politics \n",
      "\n",
      "Denmark has three branches of power; the judiciary (the courts), the executive (the Prime Minister and the cabinet) and the legislature (the Danish parliament). The current Prime Minister of Denmark is Mette Frederiksen, who was elected in June 2019.\n",
      "\n",
      "Denmark is a Kingdom which means it has a monarch (a king or queen). The current monarch is Queen Margrethe II. Margrethe II does not have a lot of power (she does not make any important decisions) and has a symbolic role. Denmark became a constitutional monarchy in 1849.\n",
      "\n",
      "Elections to the parliament are held every four years, and the winner of the election is the party or coalition which gets the most votes and seats in the parliament. After the elections are done, several parties who are in agreement will group together to form a coalition government, and the leader of the largest party becomes the prime minister.\n",
      "\n",
      "Here is a short summary of the biggest political parties in Denmark, from left to right on the political axis:\n",
      "\n",
      " Question: write an article titled: what is the berlin wall?\n",
      " Answer:\n"
     ]
    }
   ],
   "source": [
    "query = \"write an article titled: what is the berlin wall?\"\n",
    "embed = get_embeddings([query])\n",
    "res = index.query(vector = embed.data[0].embedding, top_k = 3, include_metadata= True)\n",
    "contexts = [\n",
    "    x['metadata']['text'] for x in res['matches']\n",
    "]\n",
    "\n",
    "prompt_start = (\"Answer the question based on the context below. \\n\\n\"+ \n",
    "                \"Context: \\n\"\n",
    "               )\n",
    "\n",
    "prompt_end = (\n",
    "    f\"\\n\\n Question: {query}\\n Answer:\"\n",
    ")\n",
    "\n",
    "prompt = (\n",
    "    prompt_start + \"\\n\\n ----- \\n\\n\".join(contexts) + prompt_end)\n",
    "\n",
    "print(prompt)"
   ]
  },
  {
   "cell_type": "code",
   "execution_count": 17,
   "id": "25d7146b-0dc0-4a65-82b7-80736188d85b",
   "metadata": {},
   "outputs": [
    {
     "name": "stdout",
     "output_type": "stream",
     "text": [
      "****************************************************************************************************\n",
      "\n",
      "The Berlin Wall was a physical barrier that divided the city of Berlin, Germany from 1961 to 1989. It was built by the German Democratic Republic (GDR), also known as East Germany, in an effort to prevent its citizens from fleeing to the democratic West Germany. The wall was a symbol of the Cold War and the ideological divide between communism and capitalism.\n",
      "\n",
      "The construction of the Berlin Wall began on August 13, 1961, and it consisted of a concrete wall, barbed wire, and guard towers. The wall stretched for 96 miles, dividing the city into East and West Berlin. It was heavily guarded by armed soldiers who were authorized to shoot anyone attempting to cross the wall.\n",
      "\n",
      "The Berlin Wall was not only a physical barrier, but it also represented the separation of families and friends. Many East Germans were unable to visit their loved ones in the West, and vice versa. The wall also had a significant impact on the economy and culture of Berlin, as it hindered trade and communication between the two sides.\n",
      "\n",
      "Despite the strict measures to prevent people from crossing, over 5,000 East Germans managed to escape to the West before the wall was finally torn down on November 9, 1989. This event marked the end of the Cold War and the beginning of German reunification.\n",
      "\n",
      "Today, the Berlin Wall is a symbol of the struggle for freedom and the consequences of political division. Parts of the wall still stand as a reminder of the past, and there are several memorials and museums dedicated to its history. The fall of the Berlin Wall serves as a reminder of the power of unity and the desire for freedom.\n"
     ]
    }
   ],
   "source": [
    "res = openai_client.completions.create(\n",
    "    model = \"gpt-3.5-turbo-instruct\",\n",
    "    prompt = prompt,\n",
    "    temperature = 0,\n",
    "    max_tokens = 636,\n",
    "    top_p = 1,\n",
    "    frequency_penalty=0,\n",
    "    presence_penalty=0,\n",
    "    stop=None)\n",
    "print(\"*\" * 100)\n",
    "print(res.choices[0].text)"
   ]
  },
  {
   "cell_type": "code",
   "execution_count": null,
   "id": "8f718657-b31c-4802-bf0d-05a4644dded8",
   "metadata": {},
   "outputs": [],
   "source": []
  }
 ],
 "metadata": {
  "kernelspec": {
   "display_name": "Python 3 (ipykernel)",
   "language": "python",
   "name": "python3"
  },
  "language_info": {
   "codemirror_mode": {
    "name": "ipython",
    "version": 3
   },
   "file_extension": ".py",
   "mimetype": "text/x-python",
   "name": "python",
   "nbconvert_exporter": "python",
   "pygments_lexer": "ipython3",
   "version": "3.9.19"
  }
 },
 "nbformat": 4,
 "nbformat_minor": 5
}
